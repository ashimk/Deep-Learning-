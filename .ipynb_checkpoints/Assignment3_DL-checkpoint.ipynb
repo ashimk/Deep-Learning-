{
 "cells": [
  {
   "cell_type": "code",
   "execution_count": 1,
   "metadata": {},
   "outputs": [
    {
     "name": "stderr",
     "output_type": "stream",
     "text": [
      "Using TensorFlow backend.\n"
     ]
    }
   ],
   "source": [
    "import os\n",
    "import pickle\n",
    "import numpy as np\n",
    "import pandas as pd\n",
    "import cv2\n",
    "import matplotlib.pyplot as plt\n",
    "import keras\n",
    "import sklearn\n",
    "from keras.models import Sequential\n",
    "from keras.layers import Dense,Dropout,Flatten,Activation\n",
    "from keras.layers import Conv2D, MaxPooling2D, GlobalMaxPool2D\n",
    "from keras.optimizers import Adam\n",
    "from keras import backend as K\n",
    "from keras.preprocessing.image import ImageDataGenerator\n",
    "from keras.callbacks import ModelCheckpoint"
   ]
  },
  {
   "cell_type": "markdown",
   "metadata": {},
   "source": [
    "# Reading the pickle file"
   ]
  },
  {
   "cell_type": "code",
   "execution_count": 2,
   "metadata": {},
   "outputs": [],
   "source": [
    "X_train = pd.read_pickle('Assignment3/trainX.pickle')\n",
    "y_train = pd.read_pickle('Assignment3/trainY.pickle')"
   ]
  },
  {
   "cell_type": "code",
   "execution_count": 3,
   "metadata": {},
   "outputs": [
    {
     "data": {
      "image/png": "[encoded data removed]",
      "text/plain": [
       "<Figure size 720x504 with 9 Axes>"
      ]
     },
     "metadata": {
      "needs_background": "light"
     },
     "output_type": "display_data"
    }
   ],
   "source": [
    "plt.figure(figsize=(10,7))\n",
    "for i in range(9):\n",
    "    plt.subplot(330 + 1 + i)\n",
    "    plt.imshow(X_train[i+100], cmap=plt.get_cmap('gray'))\n",
    "    plt.title(y_train[i])\n",
    "plt.show()"
   ]
  },
  {
   "cell_type": "code",
   "execution_count": 4,
   "metadata": {
    "scrolled": true
   },
   "outputs": [
    {
     "name": "stdout",
     "output_type": "stream",
     "text": [
      "(60000, 28, 28)\n",
      "(60000,)\n"
     ]
    }
   ],
   "source": [
    "print(X_train.shape)\n",
    "print(y_train.shape)"
   ]
  },
  {
   "cell_type": "code",
   "execution_count": 5,
   "metadata": {},
   "outputs": [
    {
     "data": {
      "text/plain": [
       "{0, 1, 2, 3, 4, 5, 6, 7, 8, 9}"
      ]
     },
     "execution_count": 5,
     "metadata": {},
     "output_type": "execute_result"
    }
   ],
   "source": [
    "set(y_train)"
   ]
  },
  {
   "cell_type": "code",
   "execution_count": 6,
   "metadata": {},
   "outputs": [],
   "source": [
    "X_train = X_train.astype('float32')\n",
    "X_train /= 255\n",
    "y_train = keras.utils.to_categorical(y_train,10)"
   ]
  },
  {
   "cell_type": "code",
   "execution_count": 7,
   "metadata": {},
   "outputs": [],
   "source": [
    "trainX = X_train[:48000]\n",
    "valX = X_train[48000:54000]\n",
    "testX = X_train[54000:]\n",
    "\n",
    "trainY = y_train[:48000]\n",
    "valY = y_train[48000:54000]\n",
    "testY = y_train[54000:]"
   ]
  },
  {
   "cell_type": "code",
   "execution_count": 8,
   "metadata": {},
   "outputs": [
    {
     "name": "stdout",
     "output_type": "stream",
     "text": [
      "(48000, 28, 28, 1) (6000, 28, 28, 1) (6000, 28, 28, 1)\n",
      "(48000, 10) (6000, 10) (6000, 10)\n"
     ]
    }
   ],
   "source": [
    "trainX = np.reshape(trainX, (48000,28,28,1))\n",
    "trainY = np.reshape(trainY, (48000,10))\n",
    "valX = np.reshape(valX, (6000,28,28,1))\n",
    "valY = np.reshape(valY, (6000,10))\n",
    "testX = np.reshape(testX, (6000,28,28,1))\n",
    "testY = np.reshape(testY, (6000,10))\n",
    "print(trainX.shape,valX.shape,testX.shape)\n",
    "print(trainY.shape,valY.shape,testY.shape)"
   ]
  },
  {
   "cell_type": "markdown",
   "metadata": {},
   "source": [
    "# Modelling\n"
   ]
  },
  {
   "cell_type": "code",
   "execution_count": 9,
   "metadata": {
    "scrolled": false
   },
   "outputs": [
    {
     "name": "stderr",
     "output_type": "stream",
     "text": [
      "WARNING: Logging before flag parsing goes to stderr.\n",
      "W0623 22:49:24.949955  4152 deprecation_wrapper.py:119] From C:\\Users\\DELL\\Anaconda3\\envs\\ashim\\lib\\site-packages\\keras\\backend\\tensorflow_backend.py:74: The name tf.get_default_graph is deprecated. Please use tf.compat.v1.get_default_graph instead.\n",
      "\n",
      "W0623 22:49:24.987571  4152 deprecation_wrapper.py:119] From C:\\Users\\DELL\\Anaconda3\\envs\\ashim\\lib\\site-packages\\keras\\backend\\tensorflow_backend.py:517: The name tf.placeholder is deprecated. Please use tf.compat.v1.placeholder instead.\n",
      "\n",
      "W0623 22:49:24.991553  4152 deprecation_wrapper.py:119] From C:\\Users\\DELL\\Anaconda3\\envs\\ashim\\lib\\site-packages\\keras\\backend\\tensorflow_backend.py:4138: The name tf.random_uniform is deprecated. Please use tf.random.uniform instead.\n",
      "\n",
      "W0623 22:49:25.031582  4152 deprecation_wrapper.py:119] From C:\\Users\\DELL\\Anaconda3\\envs\\ashim\\lib\\site-packages\\keras\\backend\\tensorflow_backend.py:3976: The name tf.nn.max_pool is deprecated. Please use tf.nn.max_pool2d instead.\n",
      "\n",
      "W0623 22:49:25.133754  4152 deprecation_wrapper.py:119] From C:\\Users\\DELL\\Anaconda3\\envs\\ashim\\lib\\site-packages\\keras\\backend\\tensorflow_backend.py:133: The name tf.placeholder_with_default is deprecated. Please use tf.compat.v1.placeholder_with_default instead.\n",
      "\n",
      "W0623 22:49:25.151387  4152 deprecation.py:506] From C:\\Users\\DELL\\Anaconda3\\envs\\ashim\\lib\\site-packages\\keras\\backend\\tensorflow_backend.py:3445: calling dropout (from tensorflow.python.ops.nn_ops) with keep_prob is deprecated and will be removed in a future version.\n",
      "Instructions for updating:\n",
      "Please use `rate` instead of `keep_prob`. Rate should be set to `rate = 1 - keep_prob`.\n"
     ]
    },
    {
     "name": "stdout",
     "output_type": "stream",
     "text": [
      "_________________________________________________________________\n",
      "Layer (type)                 Output Shape              Param #   \n",
      "=================================================================\n",
      "conv2d_1 (Conv2D)            (None, 28, 28, 32)        320       \n",
      "_________________________________________________________________\n",
      "activation_1 (Activation)    (None, 28, 28, 32)        0         \n",
      "_________________________________________________________________\n",
      "max_pooling2d_1 (MaxPooling2 (None, 14, 14, 32)        0         \n",
      "_________________________________________________________________\n",
      "conv2d_2 (Conv2D)            (None, 14, 14, 32)        9248      \n",
      "_________________________________________________________________\n",
      "activation_2 (Activation)    (None, 14, 14, 32)        0         \n",
      "_________________________________________________________________\n",
      "max_pooling2d_2 (MaxPooling2 (None, 7, 7, 32)          0         \n",
      "_________________________________________________________________\n",
      "conv2d_3 (Conv2D)            (None, 7, 7, 16)          4624      \n",
      "_________________________________________________________________\n",
      "activation_3 (Activation)    (None, 7, 7, 16)          0         \n",
      "_________________________________________________________________\n",
      "max_pooling2d_3 (MaxPooling2 (None, 3, 3, 16)          0         \n",
      "_________________________________________________________________\n",
      "flatten_1 (Flatten)          (None, 144)               0         \n",
      "_________________________________________________________________\n",
      "dense_1 (Dense)              (None, 128)               18560     \n",
      "_________________________________________________________________\n",
      "activation_4 (Activation)    (None, 128)               0         \n",
      "_________________________________________________________________\n",
      "dropout_1 (Dropout)          (None, 128)               0         \n",
      "_________________________________________________________________\n",
      "dense_2 (Dense)              (None, 10)                1290      \n",
      "_________________________________________________________________\n",
      "activation_5 (Activation)    (None, 10)                0         \n",
      "=================================================================\n",
      "Total params: 34,042\n",
      "Trainable params: 34,042\n",
      "Non-trainable params: 0\n",
      "_________________________________________________________________\n"
     ]
    }
   ],
   "source": [
    "model = Sequential()\n",
    "\n",
    "model.add(Conv2D(32, (3, 3), padding=\"same\",input_shape=(28,28,1)))\n",
    "model.add(Activation(\"relu\"))\n",
    "model.add(MaxPooling2D(pool_size=(2, 2)))\n",
    "\n",
    "model.add(Conv2D(32, (3,3), padding=\"same\"))\n",
    "model.add(Activation(\"relu\"))\n",
    "model.add(MaxPooling2D(pool_size=(2, 2)))\n",
    "\n",
    "model.add(Conv2D(16, (3,3), padding=\"same\"))\n",
    "model.add(Activation(\"relu\"))\n",
    "model.add(MaxPooling2D(pool_size=(2, 2)))\n",
    "\n",
    "model.add(Flatten())\n",
    "model.add(Dense(128))\n",
    "model.add(Activation(\"relu\"))\n",
    "model.add(Dropout(0.25))\n",
    "\n",
    "model.add(Dense(10))\n",
    "model.add(Activation(\"softmax\"))\n",
    "model.summary()"
   ]
  },
  {
   "cell_type": "code",
   "execution_count": 10,
   "metadata": {},
   "outputs": [
    {
     "name": "stderr",
     "output_type": "stream",
     "text": [
      "W0623 22:49:25.232538  4152 deprecation_wrapper.py:119] From C:\\Users\\DELL\\Anaconda3\\envs\\ashim\\lib\\site-packages\\keras\\optimizers.py:790: The name tf.train.Optimizer is deprecated. Please use tf.compat.v1.train.Optimizer instead.\n",
      "\n",
      "W0623 22:49:25.284287  4152 deprecation_wrapper.py:119] From C:\\Users\\DELL\\Anaconda3\\envs\\ashim\\lib\\site-packages\\keras\\backend\\tensorflow_backend.py:3295: The name tf.log is deprecated. Please use tf.math.log instead.\n",
      "\n"
     ]
    }
   ],
   "source": [
    "model.compile(optimizer='adam', loss='categorical_crossentropy', metrics=['accuracy'])"
   ]
  },
  {
   "cell_type": "code",
   "execution_count": 22,
   "metadata": {
    "scrolled": false
   },
   "outputs": [
    {
     "name": "stdout",
     "output_type": "stream",
     "text": [
      "Train on 48000 samples, validate on 6000 samples\n",
      "Epoch 1/30\n",
      "48000/48000 [==============================] - 30s 635us/step - loss: 0.2190 - acc: 0.9204 - val_loss: 0.2543 - val_acc: 0.9118\n",
      "\n",
      "Epoch 00001: val_loss improved from inf to 0.25428, saving model to model.h5\n",
      "Epoch 2/30\n",
      "48000/48000 [==============================] - 36s 752us/step - loss: 0.2107 - acc: 0.9216 - val_loss: 0.2448 - val_acc: 0.9105\n",
      "\n",
      "Epoch 00002: val_loss improved from 0.25428 to 0.24483, saving model to model.h5\n",
      "Epoch 3/30\n",
      "48000/48000 [==============================] - 37s 767us/step - loss: 0.2054 - acc: 0.9235 - val_loss: 0.2468 - val_acc: 0.9115\n",
      "\n",
      "Epoch 00003: val_loss did not improve from 0.24483\n",
      "Epoch 4/30\n",
      "48000/48000 [==============================] - 37s 765us/step - loss: 0.2005 - acc: 0.9261 - val_loss: 0.2464 - val_acc: 0.9138\n",
      "\n",
      "Epoch 00004: val_loss did not improve from 0.24483\n",
      "Epoch 5/30\n",
      "48000/48000 [==============================] - 39s 814us/step - loss: 0.1952 - acc: 0.9277 - val_loss: 0.2439 - val_acc: 0.9127\n",
      "\n",
      "Epoch 00005: val_loss improved from 0.24483 to 0.24387, saving model to model.h5\n",
      "Epoch 6/30\n",
      "48000/48000 [==============================] - 36s 748us/step - loss: 0.1899 - acc: 0.9290 - val_loss: 0.2529 - val_acc: 0.9107\n",
      "\n",
      "Epoch 00006: val_loss did not improve from 0.24387\n",
      "Epoch 7/30\n",
      "48000/48000 [==============================] - 38s 786us/step - loss: 0.1872 - acc: 0.9305 - val_loss: 0.2388 - val_acc: 0.9158\n",
      "\n",
      "Epoch 00007: val_loss improved from 0.24387 to 0.23882, saving model to model.h5\n",
      "Epoch 8/30\n",
      "48000/48000 [==============================] - 41s 845us/step - loss: 0.1806 - acc: 0.9322 - val_loss: 0.2567 - val_acc: 0.9167\n",
      "\n",
      "Epoch 00008: val_loss did not improve from 0.23882\n",
      "Epoch 9/30\n",
      "48000/48000 [==============================] - 38s 799us/step - loss: 0.1775 - acc: 0.9340 - val_loss: 0.2447 - val_acc: 0.9133\n",
      "\n",
      "Epoch 00009: val_loss did not improve from 0.23882\n",
      "Epoch 10/30\n",
      "48000/48000 [==============================] - 36s 742us/step - loss: 0.1726 - acc: 0.9357 - val_loss: 0.2593 - val_acc: 0.9110\n",
      "\n",
      "Epoch 00010: val_loss did not improve from 0.23882\n",
      "Epoch 11/30\n",
      "48000/48000 [==============================] - 36s 742us/step - loss: 0.1755 - acc: 0.9341 - val_loss: 0.2581 - val_acc: 0.9148\n",
      "\n",
      "Epoch 00011: val_loss did not improve from 0.23882\n",
      "Epoch 12/30\n",
      "48000/48000 [==============================] - 36s 742us/step - loss: 0.1641 - acc: 0.9381 - val_loss: 0.2447 - val_acc: 0.9160\n",
      "\n",
      "Epoch 00012: val_loss did not improve from 0.23882\n",
      "Epoch 13/30\n",
      "48000/48000 [==============================] - 37s 768us/step - loss: 0.1622 - acc: 0.9393 - val_loss: 0.2527 - val_acc: 0.9115\n",
      "\n",
      "Epoch 00013: val_loss did not improve from 0.23882\n",
      "Epoch 14/30\n",
      "48000/48000 [==============================] - 36s 760us/step - loss: 0.1590 - acc: 0.9403 - val_loss: 0.2512 - val_acc: 0.9145\n",
      "\n",
      "Epoch 00014: val_loss did not improve from 0.23882\n",
      "Epoch 15/30\n",
      "48000/48000 [==============================] - 37s 763us/step - loss: 0.1543 - acc: 0.9421 - val_loss: 0.2564 - val_acc: 0.9142\n",
      "\n",
      "Epoch 00015: val_loss did not improve from 0.23882\n",
      "Epoch 16/30\n",
      "48000/48000 [==============================] - 36s 752us/step - loss: 0.1496 - acc: 0.9443 - val_loss: 0.2505 - val_acc: 0.9172\n",
      "\n",
      "Epoch 00016: val_loss did not improve from 0.23882\n",
      "Epoch 17/30\n",
      "48000/48000 [==============================] - 36s 754us/step - loss: 0.1465 - acc: 0.9455 - val_loss: 0.2577 - val_acc: 0.9135\n",
      "\n",
      "Epoch 00017: val_loss did not improve from 0.23882\n",
      "Epoch 18/30\n",
      "48000/48000 [==============================] - 36s 753us/step - loss: 0.1428 - acc: 0.9468 - val_loss: 0.2474 - val_acc: 0.9207\n",
      "\n",
      "Epoch 00018: val_loss did not improve from 0.23882\n",
      "Epoch 19/30\n",
      "48000/48000 [==============================] - 37s 778us/step - loss: 0.1398 - acc: 0.9482 - val_loss: 0.2569 - val_acc: 0.9173\n",
      "\n",
      "Epoch 00019: val_loss did not improve from 0.23882\n",
      "Epoch 20/30\n",
      "48000/48000 [==============================] - 37s 761us/step - loss: 0.1391 - acc: 0.9470 - val_loss: 0.2857 - val_acc: 0.9140\n",
      "\n",
      "Epoch 00020: val_loss did not improve from 0.23882\n",
      "Epoch 21/30\n",
      "48000/48000 [==============================] - 35s 729us/step - loss: 0.1345 - acc: 0.9488 - val_loss: 0.2613 - val_acc: 0.9138\n",
      "\n",
      "Epoch 00021: val_loss did not improve from 0.23882\n",
      "Epoch 22/30\n",
      "48000/48000 [==============================] - 32s 672us/step - loss: 0.1361 - acc: 0.9485 - val_loss: 0.2613 - val_acc: 0.9182\n",
      "\n",
      "Epoch 00022: val_loss did not improve from 0.23882\n",
      "Epoch 23/30\n",
      "48000/48000 [==============================] - 32s 676us/step - loss: 0.1300 - acc: 0.9498 - val_loss: 0.2957 - val_acc: 0.9065\n",
      "\n",
      "Epoch 00023: val_loss did not improve from 0.23882\n",
      "Epoch 24/30\n",
      "48000/48000 [==============================] - 35s 734us/step - loss: 0.1298 - acc: 0.9502 - val_loss: 0.2679 - val_acc: 0.9170\n",
      "\n",
      "Epoch 00024: val_loss did not improve from 0.23882\n",
      "Epoch 25/30\n",
      "48000/48000 [==============================] - 35s 724us/step - loss: 0.1247 - acc: 0.9523 - val_loss: 0.2754 - val_acc: 0.9183\n",
      "\n",
      "Epoch 00025: val_loss did not improve from 0.23882\n",
      "Epoch 26/30\n",
      "48000/48000 [==============================] - 35s 728us/step - loss: 0.1247 - acc: 0.9519 - val_loss: 0.2815 - val_acc: 0.9123\n",
      "\n",
      "Epoch 00026: val_loss did not improve from 0.23882\n",
      "Epoch 27/30\n",
      "48000/48000 [==============================] - 35s 729us/step - loss: 0.1216 - acc: 0.9531 - val_loss: 0.2680 - val_acc: 0.9170\n",
      "\n",
      "Epoch 00027: val_loss did not improve from 0.23882\n",
      "Epoch 28/30\n",
      "48000/48000 [==============================] - 35s 736us/step - loss: 0.1197 - acc: 0.9535 - val_loss: 0.2744 - val_acc: 0.9182\n",
      "\n",
      "Epoch 00028: val_loss did not improve from 0.23882\n",
      "Epoch 29/30\n",
      "48000/48000 [==============================] - 35s 731us/step - loss: 0.1161 - acc: 0.9559 - val_loss: 0.2877 - val_acc: 0.9138\n",
      "\n",
      "Epoch 00029: val_loss did not improve from 0.23882\n",
      "Epoch 30/30\n",
      "48000/48000 [==============================] - 35s 732us/step - loss: 0.1125 - acc: 0.9571 - val_loss: 0.2847 - val_acc: 0.9132\n",
      "\n",
      "Epoch 00030: val_loss did not improve from 0.23882\n",
      "Test Loss: 0.290156802435716\n",
      "Test Accuracy: 0.9125\n"
     ]
    }
   ],
   "source": [
    "cb = ModelCheckpoint('model.h5', monitor='val_loss', verbose=1, save_best_only=True,save_weights_only=False,\n",
    "                     mode='auto', period=1)\n",
    "\n",
    "model.fit(\n",
    "    trainX,\n",
    "    trainY,\n",
    "    batch_size=128,\n",
    "    epochs=30,\n",
    "    verbose=1,\n",
    "    validation_data=(valX,valY),\n",
    "    callbacks=[cb])\n",
    "\n",
    "score = model.evaluate(testX,testY,verbose=0)\n",
    "print(\"Test Loss:\",score[0])\n",
    "print(\"Test Accuracy:\",score[1])"
   ]
  },
  {
   "cell_type": "code",
   "execution_count": 12,
   "metadata": {},
   "outputs": [],
   "source": [
    "test_data = pd.read_pickle('Assignment3/testX.pickle')"
   ]
  },
  {
   "cell_type": "code",
   "execution_count": 13,
   "metadata": {},
   "outputs": [
    {
     "name": "stdout",
     "output_type": "stream",
     "text": [
      "(10000, 28, 28)\n"
     ]
    }
   ],
   "source": [
    "print(test_data.shape)"
   ]
  },
  {
   "cell_type": "code",
   "execution_count": 14,
   "metadata": {},
   "outputs": [],
   "source": [
    "test_data = test_data.astype('float32')\n",
    "test_data /= 255\n",
    "test_data = np.reshape(test_data, (10000,28,28,1))"
   ]
  },
  {
   "cell_type": "code",
   "execution_count": 15,
   "metadata": {
    "scrolled": true
   },
   "outputs": [],
   "source": [
    "y_pred = model.predict_classes(test_data)"
   ]
  },
  {
   "cell_type": "code",
   "execution_count": 16,
   "metadata": {},
   "outputs": [
    {
     "data": {
      "text/plain": [
       "array([9, 2, 1, ..., 8, 1, 7], dtype=int64)"
      ]
     },
     "execution_count": 16,
     "metadata": {},
     "output_type": "execute_result"
    }
   ],
   "source": [
    "y_pred"
   ]
  },
  {
   "cell_type": "code",
   "execution_count": 17,
   "metadata": {},
   "outputs": [
    {
     "data": {
      "text/plain": [
       "9"
      ]
     },
     "execution_count": 17,
     "metadata": {},
     "output_type": "execute_result"
    }
   ],
   "source": [
    "y_pred[0]"
   ]
  },
  {
   "cell_type": "code",
   "execution_count": 18,
   "metadata": {},
   "outputs": [
    {
     "data": {
      "text/plain": [
       "{0, 1, 2, 3, 4, 5, 6, 7, 8, 9}"
      ]
     },
     "execution_count": 18,
     "metadata": {},
     "output_type": "execute_result"
    }
   ],
   "source": [
    "set(y_pred)"
   ]
  },
  {
   "cell_type": "code",
   "execution_count": 19,
   "metadata": {},
   "outputs": [
    {
     "data": {
      "image/png": "[encoded data removed]",
      "text/plain": [
       "<Figure size 432x288 with 1 Axes>"
      ]
     },
     "metadata": {
      "needs_background": "light"
     },
     "output_type": "display_data"
    }
   ],
   "source": [
    "plt.imshow(test_data[-7].reshape(28,28))\n",
    "plt.show()"
   ]
  },
  {
   "cell_type": "code",
   "execution_count": 20,
   "metadata": {},
   "outputs": [
    {
     "data": {
      "text/plain": [
       "9"
      ]
     },
     "execution_count": 20,
     "metadata": {},
     "output_type": "execute_result"
    }
   ],
   "source": [
    "y_pred[-7]"
   ]
  },
  {
   "cell_type": "code",
   "execution_count": 24,
   "metadata": {},
   "outputs": [],
   "source": [
    "with open('Assignment3/finalPredictions.pickle','wb') as file:\n",
    "    pickle.dump(y_pred,file)"
   ]
  },
  {
   "cell_type": "code",
   "execution_count": null,
   "metadata": {},
   "outputs": [],
   "source": []
  }
 ],
 "metadata": {
  "kernelspec": {
   "display_name": "Python 3",
   "language": "python",
   "name": "python3"
  },
  "language_info": {
   "codemirror_mode": {
    "name": "ipython",
    "version": 3
   },
   "file_extension": ".py",
   "mimetype": "text/x-python",
   "name": "python",
   "nbconvert_exporter": "python",
   "pygments_lexer": "ipython3",
   "version": "3.6.8"
  }
 },
 "nbformat": 4,
 "nbformat_minor": 2
}
